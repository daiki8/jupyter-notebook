{
 "cells": [
  {
   "cell_type": "markdown",
   "metadata": {},
   "source": [
    "#### Hello World"
   ]
  },
  {
   "cell_type": "code",
   "execution_count": 2,
   "metadata": {
    "collapsed": false
   },
   "outputs": [
    {
     "name": "stdout",
     "output_type": "stream",
     "text": [
      "b'Hello, TensorFlow!'\n"
     ]
    }
   ],
   "source": [
    "import tensorflow as tf\n",
    " \n",
    "hello = tf.constant('Hello, TensorFlow!')\n",
    " \n",
    "sess = tf.Session()\n",
    "\n",
    "print(sess.run(hello))"
   ]
  },
  {
   "cell_type": "markdown",
   "metadata": {},
   "source": [
    "#### 加算"
   ]
  },
  {
   "cell_type": "code",
   "execution_count": 3,
   "metadata": {
    "collapsed": false
   },
   "outputs": [
    {
     "name": "stdout",
     "output_type": "stream",
     "text": [
      "42\n"
     ]
    }
   ],
   "source": [
    "import tensorflow as tf\n",
    " \n",
    "a = tf.constant(10)\n",
    "\n",
    "b = tf.constant(32)\n",
    "\n",
    "sess = tf.Session()\n",
    " \n",
    "print(sess.run(a+b))"
   ]
  },
  {
   "cell_type": "markdown",
   "metadata": {},
   "source": [
    "#### テンソル"
   ]
  },
  {
   "cell_type": "code",
   "execution_count": 37,
   "metadata": {
    "collapsed": false
   },
   "outputs": [
    {
     "name": "stdout",
     "output_type": "stream",
     "text": [
      "0\n",
      "1\n",
      "2\n",
      "3\n"
     ]
    }
   ],
   "source": [
    "import tensorflow as tf\n",
    "\n",
    "state = tf.Variable(0, name=\"counter\")         # state = 0\n",
    "\n",
    "one = tf.constant(1)                           # one = 1\n",
    "new_value = tf.add(state, one)                 # new_value = state + 1\n",
    "update = tf.assign(state, new_value)           # state = new_value\n",
    "\n",
    "init_op = tf.global_variables_initializer()\n",
    "\n",
    "with tf.Session() as sess:\n",
    "    sess.run(init_op)\n",
    "    print(sess.run(state))\n",
    "    for _ in range(3):\n",
    "        sess.run(update)\n",
    "        print(sess.run(state))"
   ]
  },
  {
   "cell_type": "markdown",
   "metadata": {
    "collapsed": true
   },
   "source": [
    "#### テンソル - FETCHES\n",
    "操作の出力を取得するには、セッションオブジェクトに対してrun（）を呼び出してグラフを実行し、取得するテンソルを渡します。前の例では、単一ノードの状態を取得しましたが、複数のテンソルをフェッチすることもできます。"
   ]
  },
  {
   "cell_type": "code",
   "execution_count": 46,
   "metadata": {
    "collapsed": false
   },
   "outputs": [
    {
     "name": "stdout",
     "output_type": "stream",
     "text": [
      "[21.0, 7.0]\n"
     ]
    }
   ],
   "source": [
    "import tensorflow as tf\n",
    " \n",
    "input1 = tf.constant(3.0)\n",
    "input2 = tf.constant(2.0)\n",
    "input3 = tf.constant(5.0)\n",
    " \n",
    "intermed = tf.add(input2, input3)\n",
    "mul = tf.mul(input1, intermed)\n",
    " \n",
    "with tf.Session() as sess:\n",
    "    result = sess.run([mul, intermed])  # 複数のテンソルをフェッチしている\n",
    "    print(result)"
   ]
  },
  {
   "cell_type": "markdown",
   "metadata": {},
   "source": [
    "#### テンソル-FEEDS"
   ]
  },
  {
   "cell_type": "code",
   "execution_count": 47,
   "metadata": {
    "collapsed": false
   },
   "outputs": [
    {
     "name": "stdout",
     "output_type": "stream",
     "text": [
      "[ 14.]\n",
      "[array([ 14.], dtype=float32)]\n"
     ]
    }
   ],
   "source": [
    "import tensorflow as tf\n",
    " \n",
    "input1 = tf.placeholder(tf.float32)\n",
    "input2 = tf.placeholder(tf.float32)\n",
    "\n",
    "output = tf.mul(input1, input2)\n",
    "\n",
    "with tf.Session() as sess:\n",
    "    print (sess.run(output, feed_dict={input1:[7.], input2:[2.]}))\n",
    "    print (sess.run([output], feed_dict={input1:[7.], input2:[2.]}))"
   ]
  },
  {
   "cell_type": "markdown",
   "metadata": {},
   "source": [
    "#### 変数の保存と復旧"
   ]
  },
  {
   "cell_type": "code",
   "execution_count": 58,
   "metadata": {
    "collapsed": false
   },
   "outputs": [
    {
     "name": "stdout",
     "output_type": "stream",
     "text": [
      "0\n",
      "1\n",
      "Model saved in file: ./model.ckpt\n",
      "Model restored.\n",
      "1\n"
     ]
    }
   ],
   "source": [
    "import tensorflow as tf\n",
    " \n",
    "v1 = tf.Variable(0, name=\"v1\")\n",
    "one = tf.constant(1)\n",
    "new_value = tf.add(v1, one)\n",
    "update = tf.assign(v1, new_value)\n",
    " \n",
    "init_op = tf.global_variables_initializer()\n",
    " \n",
    "saver = tf.train.Saver()\n",
    "\n",
    "# save\n",
    "with tf.Session() as sess:\n",
    "    sess.run(init_op)\n",
    "    print(sess.run(v1))\n",
    "    sess.run(update)\n",
    "    print(sess.run(v1))\n",
    "    save_path = saver.save(sess, \"./model.ckpt\")\n",
    "    print(\"Model saved in file: %s\" % save_path)\n",
    "\n",
    "# restore\n",
    "with tf.Session() as sess:\n",
    "    saver.restore(sess, \"./model.ckpt\")\n",
    "    print(\"Model restored.\")\n",
    "    print(sess.run(v1))"
   ]
  },
  {
   "cell_type": "markdown",
   "metadata": {},
   "source": [
    "#### constant（定数）"
   ]
  },
  {
   "cell_type": "code",
   "execution_count": null,
   "metadata": {
    "collapsed": true
   },
   "outputs": [],
   "source": [
    "import tensorflow as tf\n",
    "\n",
    "i = tf.constant(10)                            # int32\n",
    "f = tf.constant(10.5)                          # float32\n",
    "s = tf.constant(\"hello\")                       # string\n",
    "l = tf.constant([1, 2, 3, 4])                  # list\n",
    "m = tf.constant(-1.0, shape=[2, 3])            # matrix\n",
    "n = tf.constant(np.arange(1,10), shape=[3,3])  # numpy\n",
    "\n",
    "print(i)\n",
    "print(f)\n",
    "print(s)\n",
    "print(l)\n",
    "print(m)\n",
    "print(n)\n",
    "\n",
    "with tf.Session() as sess:\n",
    "    print(sess.run(i))\n",
    "    print(sess.run(f))\n",
    "    print(sess.run(s))\n",
    "    print(sess.run(l))\n",
    "    print(sess.run(m))\n",
    "    print(sess.run(n))"
   ]
  },
  {
   "cell_type": "markdown",
   "metadata": {},
   "source": [
    "#### Math"
   ]
  },
  {
   "cell_type": "code",
   "execution_count": null,
   "metadata": {
    "collapsed": true
   },
   "outputs": [],
   "source": [
    "import tensorflow as tf\n",
    "\n",
    "x = tf.constant([1, 2, 3], dtype=tf.float32)\n",
    "y = tf.constant([2, 4, 6], dtype=tf.float32)\n",
    "\n",
    "add = tf.add(x, y)                  # 加算\n",
    "sub = tf.subtract(x, y)             # 減算\n",
    "mul = tf.mul(x, y)                  # 乗算\n",
    "div = tf.div(x, y)                  # 除算\n",
    "\n",
    "print(add)\n",
    "print(sub)\n",
    "print(mul)\n",
    "print(div)\n",
    "\n",
    "with tf.Session() as sess:\n",
    "    print(sess.run(add))\n",
    "    print(sess.run(sub))\n",
    "    print(sess.run(mul))\n",
    "    print(sess.run(div))"
   ]
  },
  {
   "cell_type": "markdown",
   "metadata": {},
   "source": [
    "#### matmul"
   ]
  },
  {
   "cell_type": "code",
   "execution_count": null,
   "metadata": {
    "collapsed": true
   },
   "outputs": [],
   "source": [
    "import tensorflow as tf\n",
    "import numpy as np\n",
    "\n",
    "# 2-D tensor\n",
    "a2 = tf.constant([1, 2, 3, 4, 5, 6], shape=[2, 3])\n",
    "b2 = tf.constant([7, 8, 9, 10, 11, 12], shape=[3, 2])\n",
    "# 3-D tensor\n",
    "a3 = tf.constant(np.arange(1,13), shape=[2, 2, 3])\n",
    "b3 = tf.constant(np.arange(13,25), shape=[2, 3, 2])\n",
    "\n",
    "c2 = tf.matmul(a2, b2)\n",
    "c3 = tf.matmul(a3, b3)\n",
    "\n",
    "with tf.Session() as sess:\n",
    "    print(sess.run(a2))\n",
    "    print(sess.run(b2))\n",
    "    print(sess.run(a3))\n",
    "    print(sess.run(b3))\n",
    "    print(sess.run(c2))\n",
    "    print(sess.run(c3))"
   ]
  },
  {
   "cell_type": "markdown",
   "metadata": {},
   "source": [
    "#### パディング"
   ]
  },
  {
   "cell_type": "code",
   "execution_count": null,
   "metadata": {
    "collapsed": true
   },
   "outputs": [],
   "source": [
    "# 't' is [[1, 2, 3], [4, 5, 6]].\n",
    "# 'paddings' is [[1, 1,], [2, 2]].\n",
    "# rank of 't' is 2\n",
    "t = tf.constant([1, 2, 3, 4, 5, 6], shape=[2, 3])\n",
    "paddings = tf.constant([[1, 1],[2, 2]])\n",
    "pad = tf.pad(t, paddings, \"CONSTANT\")\n",
    "\n",
    "with tf.Session() as sess:\n",
    "    print(sess.run(t))\n",
    "    print(sess.run(paddings))\n",
    "    print(sess.run(pad))"
   ]
  }
 ],
 "metadata": {
  "anaconda-cloud": {},
  "kernelspec": {
   "display_name": "Python [conda env:py3]",
   "language": "python",
   "name": "conda-env-py3-py"
  },
  "language_info": {
   "codemirror_mode": {
    "name": "ipython",
    "version": 3
   },
   "file_extension": ".py",
   "mimetype": "text/x-python",
   "name": "python",
   "nbconvert_exporter": "python",
   "pygments_lexer": "ipython3",
   "version": "3.5.1"
  }
 },
 "nbformat": 4,
 "nbformat_minor": 1
}
