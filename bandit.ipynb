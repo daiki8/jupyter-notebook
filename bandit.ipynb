{
 "cells": [
  {
   "cell_type": "code",
   "execution_count": 253,
   "metadata": {
    "collapsed": true
   },
   "outputs": [],
   "source": [
    "%matplotlib inline"
   ]
  },
  {
   "cell_type": "code",
   "execution_count": 271,
   "metadata": {
    "collapsed": true
   },
   "outputs": [],
   "source": [
    "from random import randint\n",
    "import numpy as np\n",
    "import matplotlib.pyplot as plt"
   ]
  },
  {
   "cell_type": "code",
   "execution_count": 272,
   "metadata": {
    "collapsed": true
   },
   "outputs": [],
   "source": [
    "def bandit(act):\n",
    "    _act2prob = {'a':2,'b':4,'c':9}\n",
    "    if act in _act2prob.keys():\n",
    "        if randint(0, _act2prob[act]) % _act2prob[act] == 0:\n",
    "            return 1\n",
    "        else:\n",
    "            return 0\n",
    "    else:\n",
    "        return 'err'\n",
    "\n",
    "def Q_update(r, act, play, Q):\n",
    "    if play > 0:\n",
    "        Q[act] = Q[act] + (1/play)*(r - Q[act])\n",
    "    else:\n",
    "        return \"err\"\n",
    "\n",
    "def Action(Q):\n",
    "    _act_list = ['a','b','c']\n",
    "    if randint(0, 9) % 9 == 0:\n",
    "        return max([(v,k) for k,v in Q.items()])[1]\n",
    "    else:\n",
    "        return _act_list[randint(0,2)]"
   ]
  },
  {
   "cell_type": "code",
   "execution_count": 273,
   "metadata": {
    "collapsed": false
   },
   "outputs": [],
   "source": [
    "Q = {'a':0,'b':0,'c':0}\n",
    "Q_list = np.empty([0, 3], float)\n",
    "PLAY_SIZE = 2000\n",
    "action = None\n",
    "rec = None\n",
    "act_list = ['a','b','c']\n"
   ]
  },
  {
   "cell_type": "code",
   "execution_count": 274,
   "metadata": {
    "collapsed": false,
    "scrolled": true
   },
   "outputs": [
    {
     "name": "stdout",
     "output_type": "stream",
     "text": [
      "{'b': 0.35222215798473555, 'a': 0.6288702238503365, 'c': 0.10704398861389777}\n"
     ]
    }
   ],
   "source": [
    "for i in range(PLAY_SIZE):\n",
    "    action = Action(Q)\n",
    "    rec = bandit(action)\n",
    "    Q_update(rec, action, i, Q)\n",
    "    Q_list = np.append(Q_list, np.array([[Q['a'], Q['b'], Q['c']]]), axis=0)\n",
    "print(Q)"
   ]
  },
  {
   "cell_type": "code",
   "execution_count": 280,
   "metadata": {
    "collapsed": false
   },
   "outputs": [
    {
     "data": {
      "text/plain": [
       "(0, 0.8)"
      ]
     },
     "execution_count": 280,
     "metadata": {},
     "output_type": "execute_result"
    },
    {
     "data": {
      "image/png": "[encoded data removed]",
      "text/plain": [
       "<matplotlib.figure.Figure at 0x240a80e50f0>"
      ]
     },
     "metadata": {},
     "output_type": "display_data"
    }
   ],
   "source": [
    "x = np.arange(0, PLAY_SIZE, 1)\n",
    "y = Q_list\n",
    "plt.plot(x, y[:, 0], 'r')\n",
    "plt.plot(x, y[:, 1], 'g')\n",
    "plt.plot(x, y[:, 2], 'b')\n",
    "plt.title(\"bandit\")\n",
    "plt.ylim(0, 0.8)  # yを0-5000の範囲に限定\n"
   ]
  },
  {
   "cell_type": "code",
   "execution_count": null,
   "metadata": {
    "collapsed": true
   },
   "outputs": [],
   "source": []
  }
 ],
 "metadata": {
  "kernelspec": {
   "display_name": "Python [Root]",
   "language": "python",
   "name": "Python [Root]"
  },
  "language_info": {
   "codemirror_mode": {
    "name": "ipython",
    "version": 3
   },
   "file_extension": ".py",
   "mimetype": "text/x-python",
   "name": "python",
   "nbconvert_exporter": "python",
   "pygments_lexer": "ipython3",
   "version": "3.5.2"
  }
 },
 "nbformat": 4,
 "nbformat_minor": 0
}
